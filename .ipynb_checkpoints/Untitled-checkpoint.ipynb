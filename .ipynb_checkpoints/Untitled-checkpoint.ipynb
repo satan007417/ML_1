{
 "cells": [
  {
   "cell_type": "code",
   "execution_count": 39,
   "metadata": {},
   "outputs": [],
   "source": [
    "import numpy as np\n",
    "import pandas\n",
    "import matplotlib.pyplot as plt\n",
    "\n",
    "from keras import backend as K\n",
    "from keras import layers, optimizers, models\n",
    "from sklearn.preprocessing import LabelEncoder"
   ]
  },
  {
   "cell_type": "code",
   "execution_count": 15,
   "metadata": {},
   "outputs": [],
   "source": [
    "np.random.seed(7)\n",
    "train_data = pandas.read_csv(\"dataset/adult.data\", encoding=\"UTF-8\", header=None)\n",
    "test_data = pandas.read_csv(\"dataset/adult.test\", encoding=\"UTF-8\", header=None, skiprows=1)\n",
    "full_data = pandas.concat([train_data, test_data])"
   ]
  },
  {
   "cell_type": "code",
   "execution_count": 16,
   "metadata": {},
   "outputs": [
    {
     "name": "stdout",
     "output_type": "stream",
     "text": [
      "   0                  1       2           3   4                    5   \\\n",
      "0  39          State-gov   77516   Bachelors  13        Never-married   \n",
      "1  50   Self-emp-not-inc   83311   Bachelors  13   Married-civ-spouse   \n",
      "2  38            Private  215646     HS-grad   9             Divorced   \n",
      "3  53            Private  234721        11th   7   Married-civ-spouse   \n",
      "4  28            Private  338409   Bachelors  13   Married-civ-spouse   \n",
      "\n",
      "                   6               7       8        9     10  11  12  \\\n",
      "0        Adm-clerical   Not-in-family   White     Male  2174   0  40   \n",
      "1     Exec-managerial         Husband   White     Male     0   0  13   \n",
      "2   Handlers-cleaners   Not-in-family   White     Male     0   0  40   \n",
      "3   Handlers-cleaners         Husband   Black     Male     0   0  40   \n",
      "4      Prof-specialty            Wife   Black   Female     0   0  40   \n",
      "\n",
      "               13      14  \n",
      "0   United-States   <=50K  \n",
      "1   United-States   <=50K  \n",
      "2   United-States   <=50K  \n",
      "3   United-States   <=50K  \n",
      "4            Cuba   <=50K  \n"
     ]
    }
   ],
   "source": [
    "print(full_data.head(5))"
   ]
  },
  {
   "cell_type": "code",
   "execution_count": 17,
   "metadata": {},
   "outputs": [],
   "source": [
    "del train_data\n",
    "del test_data\n",
    "\n",
    "transform_needed = [False,\n",
    "           True,\n",
    "           False,\n",
    "           True,\n",
    "           False,\n",
    "           True,\n",
    "           True,\n",
    "           True,\n",
    "           True,\n",
    "           True,\n",
    "           False,\n",
    "           False,\n",
    "           False,\n",
    "           True,\n",
    "           True]\n",
    "\n",
    "\n",
    "def replaceSpaceAndDot(text: str):\n",
    "    return text.replace(' ', '').replace('.', '')\n",
    "\n",
    "\n",
    "full_data[14] = full_data[14].apply(replaceSpaceAndDot)"
   ]
  },
  {
   "cell_type": "code",
   "execution_count": 18,
   "metadata": {},
   "outputs": [],
   "source": [
    "data = np.zeros(shape=(full_data.shape[0], full_data.shape[1]), dtype=np.float32)\n",
    "\n",
    "for i in range(len(transform_needed)):\n",
    "    if transform_needed[i]:\n",
    "        tmp_data = full_data.iloc[:, i].tolist()\n",
    "        encoder = LabelEncoder()\n",
    "        encoder.fit(tmp_data)\n",
    "        data[:, i] = encoder.transform(tmp_data)\n",
    "    else:\n",
    "        data[:, i] = full_data.iloc[:, i].tolist()"
   ]
  },
  {
   "cell_type": "code",
   "execution_count": null,
   "metadata": {},
   "outputs": [
    {
     "name": "stdout",
     "output_type": "stream",
     "text": [
      "Train on 26178 samples, validate on 12895 samples\n",
      "Epoch 1/10\n",
      "26178/26178 [==============================] - 18s 690us/step - loss: 0.5510 - acc: 0.7603 - val_loss: 0.5525 - val_acc: 0.7594\n",
      "Epoch 2/10\n",
      "26178/26178 [==============================] - 10s 367us/step - loss: 0.5506 - acc: 0.7603 - val_loss: 0.5514 - val_acc: 0.7594\n",
      "Epoch 3/10\n",
      "26178/26178 [==============================] - 10s 399us/step - loss: 0.5503 - acc: 0.7603 - val_loss: 0.5491 - val_acc: 0.7594\n",
      "Epoch 4/10\n",
      " 1776/26178 [=>............................] - ETA: 7s - loss: 0.5401 - acc: 0.7686"
     ]
    }
   ],
   "source": [
    "#print(pandas.unique(full_data.iloc[:, 14]))\n",
    "train_size = int(len(data) * .8)\n",
    "\n",
    "x_train = data[:train_size, :13]\n",
    "y_train = data[:train_size, 14]\n",
    "\n",
    "x_test = data[train_size:, :13]\n",
    "y_test = data[train_size:, 14]\n",
    "\n",
    "total_class = np.unique(data[:train_size, 14]).shape[0]\n",
    "\n",
    "model = models.Sequential()\n",
    "model.add(layers.Dense(64, input_shape=(x_train.shape[1],), activation=\"sigmoid\"))\n",
    "model.add(layers.Dense(32, activation=\"relu\"))\n",
    "model.add(layers.Dense(32, activation=\"relu\"))\n",
    "model.add(layers.Dropout(0.05))\n",
    "model.add(layers.Dense(16, activation=\"relu\"))\n",
    "model.add(layers.Dense(1, activation=\"sigmoid\"))\n",
    "\n",
    "opt = optimizers.RMSprop(lr=0.001, rho=0.9, epsilon=None, decay=0.0)\n",
    "model.compile(loss='binary_crossentropy', optimizer=opt, metrics=['accuracy'])\n",
    "history = model.fit(x_train, y_train, validation_split=0.33, epochs=10, batch_size=16)\n",
    "\n",
    "loss, accuracy = model.evaluate(x_test, y_test)\n",
    "print(\"Test Acc : \" + str(accuracy))\n",
    "print(\"Test Loss : \" + str(loss))\n",
    "\n",
    "plt.plot(history.history['acc'])\n",
    "plt.plot(history.history['loss'])\n",
    "plt.title('model accuracy')\n",
    "plt.ylabel('accuracy')\n",
    "plt.xlabel('epoch')\n",
    "plt.legend(['acc', 'loss'], loc='upper left')\n",
    "plt.show()"
   ]
  }
 ],
 "metadata": {
  "kernelspec": {
   "display_name": "Python 3",
   "language": "python",
   "name": "python3"
  },
  "language_info": {
   "codemirror_mode": {
    "name": "ipython",
    "version": 3
   },
   "file_extension": ".py",
   "mimetype": "text/x-python",
   "name": "python",
   "nbconvert_exporter": "python",
   "pygments_lexer": "ipython3",
   "version": "3.6.7"
  }
 },
 "nbformat": 4,
 "nbformat_minor": 2
}
